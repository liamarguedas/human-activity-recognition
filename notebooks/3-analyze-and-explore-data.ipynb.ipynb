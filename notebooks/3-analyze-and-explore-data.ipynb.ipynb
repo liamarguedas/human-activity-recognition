{
 "cells": [
  {
   "cell_type": "markdown",
   "id": "98ac04aa-7d7b-4327-a143-5a74d50e7dc8",
   "metadata": {},
   "source": [
    "# analyze and explore data"
   ]
  },
  {
   "cell_type": "code",
   "execution_count": null,
   "id": "e0208ea8-33f4-4f3d-98ae-2b30d7882288",
   "metadata": {},
   "outputs": [],
   "source": [
    "# Create data for each device\n",
    "\n",
    "accelerometer_data = data[\n",
    "    [\n",
    "        column \n",
    "        for column in data.columns \n",
    "        if \"Acc\" in column\n",
    "        or \"subject\" in column\n",
    "        or \"Activity\" in column\n",
    "    ]\n",
    "]\n",
    "\n",
    "gyroscope_data = data[\n",
    "    [\n",
    "        column\n",
    "        for column in data.columns\n",
    "        if \"Gyro\" in column\n",
    "        or \"subject\" in column\n",
    "        or \"Activity\" in column\n",
    "    ]\n",
    "] "
   ]
  }
 ],
 "metadata": {
  "kernelspec": {
   "display_name": "Python 3 (ipykernel)",
   "language": "python",
   "name": "python3"
  },
  "language_info": {
   "codemirror_mode": {
    "name": "ipython",
    "version": 3
   },
   "file_extension": ".py",
   "mimetype": "text/x-python",
   "name": "python",
   "nbconvert_exporter": "python",
   "pygments_lexer": "ipython3",
   "version": "3.12.4"
  }
 },
 "nbformat": 4,
 "nbformat_minor": 5
}
