{
 "cells": [
  {
   "cell_type": "markdown",
   "id": "3c42067f-482e-40dd-9011-474c887e73b1",
   "metadata": {},
   "source": [
    "# Acquire and cleanse data\n",
    "### Data Collection Process for Human Activity Recognition\n",
    "\n",
    "The Human Activity Recognition (HAR) dataset was meticulously gathered through a series of well-structured experiments involving 30 volunteers. These participants, aged between 19 and 48 years, were engaged in a controlled environment to perform a set of predefined activities. The goal was to capture comprehensive data that would enable accurate classification of everyday activities using smartphone sensors.\n",
    "\n",
    "#### Experimental Setup\n",
    "\n",
    "1. **Participants**:\n",
    "    - A total of 30 volunteers participated in the study.\n",
    "    - Age range: 19-48 years.\n",
    "    - Each participant performed a series of six activities: walking, walking upstairs, walking downstairs, sitting, standing, and laying down.\n",
    "\n",
    "2. **Equipment**:\n",
    "    - Each participant was equipped with a Samsung Galaxy S II smartphone.\n",
    "    - The smartphone was positioned at the waist to ensure consistency in data collection.\n",
    "    - The smartphone's embedded sensors, specifically the accelerometer and gyroscope, were used to record the data.\n",
    "\n",
    "#### Data Recording\n",
    "\n",
    "1. **Sensor Data**:\n",
    "    - The accelerometer and gyroscope captured 3-axial linear acceleration and 3-axial angular velocity.\n",
    "    - Data was recorded at a constant rate of 50Hz, ensuring high-resolution capture of the participants' movements.\n",
    "\n",
    "2. **Video Recording**:\n",
    "    - All experiments were video-recorded to facilitate the manual labeling of activities.\n",
    "    - This step ensured accurate correlation between the recorded sensor data and the actual activities performed.\n",
    "\n",
    "#### Data Preprocessing\n",
    "\n",
    "1. **Noise Filtering**:\n",
    "    - The raw sensor data was pre-processed to remove noise.\n",
    "    - Various noise filtering techniques were applied to ensure the accuracy and reliability of the data.\n",
    "\n",
    "2. **Segmentation**:\n",
    "    - The sensor data was segmented into fixed-width sliding windows of 2.56 seconds, with a 50% overlap, resulting in 128 readings per window.\n",
    "    - This segmentation facilitated the extraction of meaningful features from the data.\n",
    "\n",
    "3. **Signal Separation**:\n",
    "    - The accelerometer signals were separated into body acceleration and gravity components using a Butterworth low-pass filter.\n",
    "    - The filter, with a 0.3 Hz cutoff frequency, isolated the low-frequency gravitational force from the higher frequency body movements.\n",
    "\n",
    "#### Feature Extraction\n",
    "\n",
    "1. **Time and Frequency Domain Features**:\n",
    "    - From each segmented window, a vector of features was derived by calculating various variables from both the time and frequency domains.\n",
    "    - This comprehensive feature extraction process resulted in a 561-feature vector for each data record.\n",
    "\n",
    "#### Dataset Partitioning\n",
    "\n",
    "1. **Training and Testing Sets**:\n",
    "    - The entire dataset was randomly partitioned into two sets: 70% of the data was used for training, and the remaining 30% was reserved for testing.\n",
    "    - This partitioning ensured that the model could be trained on a substantial amount of data while being validated on a separate, unseen dataset to test its generalizability.\n",
    "\n",
    "#### Attribute Information\n",
    "\n",
    "For each record in the dataset, the following attributes were provided:\n",
    "\n",
    "- Triaxial acceleration from the accelerometer (total and estimated body acceleration).\n",
    "- Triaxial angular velocity from the gyroscope.\n",
    "- A 561-feature vector derived from time and frequency domain calculations.\n",
    "- Activity label indicating the type of activity performed.\n",
    "- An identifier for the participant who carried out the experiment.\n",
    "\n",
    "The HAR dataset collection process was designed to ensure the capture of high-quality, detailed data that accurately represents various human activities. By combining sensor data with video-recorded labels and employing rigorous preprocessing and feature extraction techniques, the resulting dataset serves as a valuable resource for developing robust Human Activity Recognition systems."
   ]
  },
  {
   "cell_type": "markdown",
   "id": "a93d13c4-5127-499b-9085-4ad858ead7bd",
   "metadata": {},
   "source": [
    "## Libraries"
   ]
  },
  {
   "cell_type": "code",
   "execution_count": 6,
   "id": "0b485a75-c368-4f75-9589-74b740bba00b",
   "metadata": {},
   "outputs": [],
   "source": [
    "# Warnings\n",
    "import warnings\n",
    "warnings.filterwarnings('ignore')\n",
    "\n",
    "# Libraries\n",
    "import numpy as np\n",
    "import pandas as pd\n",
    "import matplotlib.pyplot as plt\n",
    "import seaborn as sns\n",
    "\n",
    "# Settings\n",
    "RANDOM_STATE = 35820\n",
    "pd.set_option('display.max_columns', None)\n",
    "sns.set_style('whitegrid')\n",
    "%matplotlib inline"
   ]
  },
  {
   "cell_type": "code",
   "execution_count": 7,
   "id": "955bf7df-3312-4cd7-b6da-cadc0084f515",
   "metadata": {},
   "outputs": [],
   "source": [
    "ROOT_DATA = \"../data/activity_root_file.csv\""
   ]
  },
  {
   "cell_type": "markdown",
   "id": "2c3c5857-c27e-47a4-9d91-586c57f9e025",
   "metadata": {},
   "source": [
    "## Loading data"
   ]
  },
  {
   "cell_type": "code",
   "execution_count": 11,
   "id": "bdb49c05-bd23-4ba3-b685-9898c12763b2",
   "metadata": {},
   "outputs": [
    {
     "ename": "ParserError",
     "evalue": "Error tokenizing data. C error: Expected 2 fields in line 7, saw 4\n",
     "output_type": "error",
     "traceback": [
      "\u001b[1;31m---------------------------------------------------------------------------\u001b[0m",
      "\u001b[1;31mParserError\u001b[0m                               Traceback (most recent call last)",
      "Cell \u001b[1;32mIn[11], line 1\u001b[0m\n\u001b[1;32m----> 1\u001b[0m data \u001b[38;5;241m=\u001b[39m \u001b[43mpd\u001b[49m\u001b[38;5;241;43m.\u001b[39;49m\u001b[43mread_csv\u001b[49m\u001b[43m(\u001b[49m\u001b[43mROOT_DATA\u001b[49m\u001b[43m,\u001b[49m\u001b[43m \u001b[49m\u001b[43mencoding\u001b[49m\u001b[38;5;241;43m=\u001b[39;49m\u001b[43m \u001b[49m\u001b[38;5;124;43m'\u001b[39;49m\u001b[38;5;124;43mISO-8859-1\u001b[39;49m\u001b[38;5;124;43m'\u001b[39;49m\u001b[43m,\u001b[49m\u001b[43m \u001b[49m\u001b[43mlow_memory\u001b[49m\u001b[38;5;241;43m=\u001b[39;49m\u001b[38;5;28;43;01mFalse\u001b[39;49;00m\u001b[43m)\u001b[49m\n",
      "File \u001b[1;32m~\\AppData\\Local\\Programs\\Python\\Python312\\Lib\\site-packages\\pandas\\io\\parsers\\readers.py:1026\u001b[0m, in \u001b[0;36mread_csv\u001b[1;34m(filepath_or_buffer, sep, delimiter, header, names, index_col, usecols, dtype, engine, converters, true_values, false_values, skipinitialspace, skiprows, skipfooter, nrows, na_values, keep_default_na, na_filter, verbose, skip_blank_lines, parse_dates, infer_datetime_format, keep_date_col, date_parser, date_format, dayfirst, cache_dates, iterator, chunksize, compression, thousands, decimal, lineterminator, quotechar, quoting, doublequote, escapechar, comment, encoding, encoding_errors, dialect, on_bad_lines, delim_whitespace, low_memory, memory_map, float_precision, storage_options, dtype_backend)\u001b[0m\n\u001b[0;32m   1013\u001b[0m kwds_defaults \u001b[38;5;241m=\u001b[39m _refine_defaults_read(\n\u001b[0;32m   1014\u001b[0m     dialect,\n\u001b[0;32m   1015\u001b[0m     delimiter,\n\u001b[1;32m   (...)\u001b[0m\n\u001b[0;32m   1022\u001b[0m     dtype_backend\u001b[38;5;241m=\u001b[39mdtype_backend,\n\u001b[0;32m   1023\u001b[0m )\n\u001b[0;32m   1024\u001b[0m kwds\u001b[38;5;241m.\u001b[39mupdate(kwds_defaults)\n\u001b[1;32m-> 1026\u001b[0m \u001b[38;5;28;01mreturn\u001b[39;00m \u001b[43m_read\u001b[49m\u001b[43m(\u001b[49m\u001b[43mfilepath_or_buffer\u001b[49m\u001b[43m,\u001b[49m\u001b[43m \u001b[49m\u001b[43mkwds\u001b[49m\u001b[43m)\u001b[49m\n",
      "File \u001b[1;32m~\\AppData\\Local\\Programs\\Python\\Python312\\Lib\\site-packages\\pandas\\io\\parsers\\readers.py:626\u001b[0m, in \u001b[0;36m_read\u001b[1;34m(filepath_or_buffer, kwds)\u001b[0m\n\u001b[0;32m    623\u001b[0m     \u001b[38;5;28;01mreturn\u001b[39;00m parser\n\u001b[0;32m    625\u001b[0m \u001b[38;5;28;01mwith\u001b[39;00m parser:\n\u001b[1;32m--> 626\u001b[0m     \u001b[38;5;28;01mreturn\u001b[39;00m \u001b[43mparser\u001b[49m\u001b[38;5;241;43m.\u001b[39;49m\u001b[43mread\u001b[49m\u001b[43m(\u001b[49m\u001b[43mnrows\u001b[49m\u001b[43m)\u001b[49m\n",
      "File \u001b[1;32m~\\AppData\\Local\\Programs\\Python\\Python312\\Lib\\site-packages\\pandas\\io\\parsers\\readers.py:1923\u001b[0m, in \u001b[0;36mTextFileReader.read\u001b[1;34m(self, nrows)\u001b[0m\n\u001b[0;32m   1916\u001b[0m nrows \u001b[38;5;241m=\u001b[39m validate_integer(\u001b[38;5;124m\"\u001b[39m\u001b[38;5;124mnrows\u001b[39m\u001b[38;5;124m\"\u001b[39m, nrows)\n\u001b[0;32m   1917\u001b[0m \u001b[38;5;28;01mtry\u001b[39;00m:\n\u001b[0;32m   1918\u001b[0m     \u001b[38;5;66;03m# error: \"ParserBase\" has no attribute \"read\"\u001b[39;00m\n\u001b[0;32m   1919\u001b[0m     (\n\u001b[0;32m   1920\u001b[0m         index,\n\u001b[0;32m   1921\u001b[0m         columns,\n\u001b[0;32m   1922\u001b[0m         col_dict,\n\u001b[1;32m-> 1923\u001b[0m     ) \u001b[38;5;241m=\u001b[39m \u001b[38;5;28;43mself\u001b[39;49m\u001b[38;5;241;43m.\u001b[39;49m\u001b[43m_engine\u001b[49m\u001b[38;5;241;43m.\u001b[39;49m\u001b[43mread\u001b[49m\u001b[43m(\u001b[49m\u001b[43m  \u001b[49m\u001b[38;5;66;43;03m# type: ignore[attr-defined]\u001b[39;49;00m\n\u001b[0;32m   1924\u001b[0m \u001b[43m        \u001b[49m\u001b[43mnrows\u001b[49m\n\u001b[0;32m   1925\u001b[0m \u001b[43m    \u001b[49m\u001b[43m)\u001b[49m\n\u001b[0;32m   1926\u001b[0m \u001b[38;5;28;01mexcept\u001b[39;00m \u001b[38;5;167;01mException\u001b[39;00m:\n\u001b[0;32m   1927\u001b[0m     \u001b[38;5;28mself\u001b[39m\u001b[38;5;241m.\u001b[39mclose()\n",
      "File \u001b[1;32m~\\AppData\\Local\\Programs\\Python\\Python312\\Lib\\site-packages\\pandas\\io\\parsers\\c_parser_wrapper.py:239\u001b[0m, in \u001b[0;36mCParserWrapper.read\u001b[1;34m(self, nrows)\u001b[0m\n\u001b[0;32m    236\u001b[0m         data \u001b[38;5;241m=\u001b[39m _concatenate_chunks(chunks)\n\u001b[0;32m    238\u001b[0m     \u001b[38;5;28;01melse\u001b[39;00m:\n\u001b[1;32m--> 239\u001b[0m         data \u001b[38;5;241m=\u001b[39m \u001b[38;5;28;43mself\u001b[39;49m\u001b[38;5;241;43m.\u001b[39;49m\u001b[43m_reader\u001b[49m\u001b[38;5;241;43m.\u001b[39;49m\u001b[43mread\u001b[49m\u001b[43m(\u001b[49m\u001b[43mnrows\u001b[49m\u001b[43m)\u001b[49m\n\u001b[0;32m    240\u001b[0m \u001b[38;5;28;01mexcept\u001b[39;00m \u001b[38;5;167;01mStopIteration\u001b[39;00m:\n\u001b[0;32m    241\u001b[0m     \u001b[38;5;28;01mif\u001b[39;00m \u001b[38;5;28mself\u001b[39m\u001b[38;5;241m.\u001b[39m_first_chunk:\n",
      "File \u001b[1;32mparsers.pyx:820\u001b[0m, in \u001b[0;36mpandas._libs.parsers.TextReader.read\u001b[1;34m()\u001b[0m\n",
      "File \u001b[1;32mparsers.pyx:914\u001b[0m, in \u001b[0;36mpandas._libs.parsers.TextReader._read_rows\u001b[1;34m()\u001b[0m\n",
      "File \u001b[1;32mparsers.pyx:891\u001b[0m, in \u001b[0;36mpandas._libs.parsers.TextReader._check_tokenize_status\u001b[1;34m()\u001b[0m\n",
      "File \u001b[1;32mparsers.pyx:2061\u001b[0m, in \u001b[0;36mpandas._libs.parsers.raise_parser_error\u001b[1;34m()\u001b[0m\n",
      "\u001b[1;31mParserError\u001b[0m: Error tokenizing data. C error: Expected 2 fields in line 7, saw 4\n"
     ]
    }
   ],
   "source": [
    "data = pd.read_csv(ROOT_DATA, encoding= 'ISO-8859-1', low_memory=False)"
   ]
  },
  {
   "cell_type": "code",
   "execution_count": null,
   "id": "42ae4216-bba4-4d47-8a78-d92dd14d5050",
   "metadata": {},
   "outputs": [],
   "source": []
  }
 ],
 "metadata": {
  "kernelspec": {
   "display_name": "Python 3 (ipykernel)",
   "language": "python",
   "name": "python3"
  },
  "language_info": {
   "codemirror_mode": {
    "name": "ipython",
    "version": 3
   },
   "file_extension": ".py",
   "mimetype": "text/x-python",
   "name": "python",
   "nbconvert_exporter": "python",
   "pygments_lexer": "ipython3",
   "version": "3.12.4"
  }
 },
 "nbformat": 4,
 "nbformat_minor": 5
}
