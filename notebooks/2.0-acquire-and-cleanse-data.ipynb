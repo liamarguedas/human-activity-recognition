{
 "cells": [
  {
   "cell_type": "markdown",
   "id": "3c42067f-482e-40dd-9011-474c887e73b1",
   "metadata": {},
   "source": [
    "# Acquire and cleanse data\n",
    "### Data Collection Process for Human Activity Recognition\n",
    "\n",
    "The Human Activity Recognition (HAR) dataset was meticulously gathered through a series of well-structured experiments involving 30 volunteers. These participants, aged between 19 and 48 years, were engaged in a controlled environment to perform a set of predefined activities. The goal was to capture comprehensive data that would enable accurate classification of everyday activities using smartphone sensors.\n",
    "\n",
    "#### Experimental Setup\n",
    "\n",
    "1. **Participants**:\n",
    "    - A total of 30 volunteers participated in the study.\n",
    "    - Age range: 19-48 years.\n",
    "    - Each participant performed a series of six activities: walking, walking upstairs, walking downstairs, sitting, standing, and laying down.\n",
    "\n",
    "2. **Equipment**:\n",
    "    - Each participant was equipped with a Samsung Galaxy S II smartphone.\n",
    "    - The smartphone was positioned at the waist to ensure consistency in data collection.\n",
    "    - The smartphone's embedded sensors, specifically the accelerometer and gyroscope, were used to record the data.\n",
    "\n",
    "#### Data Recording\n",
    "\n",
    "1. **Sensor Data**:\n",
    "    - The accelerometer and gyroscope captured 3-axial linear acceleration and 3-axial angular velocity.\n",
    "    - Data was recorded at a constant rate of 50Hz, ensuring high-resolution capture of the participants' movements.\n",
    "\n",
    "2. **Video Recording**:\n",
    "    - All experiments were video-recorded to facilitate the manual labeling of activities.\n",
    "    - This step ensured accurate correlation between the recorded sensor data and the actual activities performed.\n",
    "\n",
    "#### Data Preprocessing\n",
    "\n",
    "1. **Noise Filtering**:\n",
    "    - The raw sensor data was pre-processed to remove noise.\n",
    "    - Various noise filtering techniques were applied to ensure the accuracy and reliability of the data.\n",
    "\n",
    "2. **Segmentation**:\n",
    "    - The sensor data was segmented into fixed-width sliding windows of 2.56 seconds, with a 50% overlap, resulting in 128 readings per window.\n",
    "    - This segmentation facilitated the extraction of meaningful features from the data.\n",
    "\n",
    "3. **Signal Separation**:\n",
    "    - The accelerometer signals were separated into body acceleration and gravity components using a Butterworth low-pass filter.\n",
    "    - The filter, with a 0.3 Hz cutoff frequency, isolated the low-frequency gravitational force from the higher frequency body movements.\n",
    "\n",
    "#### Feature Extraction\n",
    "\n",
    "1. **Time and Frequency Domain Features**:\n",
    "    - From each segmented window, a vector of features was derived by calculating various variables from both the time and frequency domains.\n",
    "    - This comprehensive feature extraction process resulted in a 561-feature vector for each data record.\n",
    "\n",
    "#### Dataset Partitioning\n",
    "\n",
    "1. **Training and Testing Sets**:\n",
    "    - The entire dataset was randomly partitioned into two sets: 70% of the data was used for training, and the remaining 30% was reserved for testing.\n",
    "    - This partitioning ensured that the model could be trained on a substantial amount of data while being validated on a separate, unseen dataset to test its generalizability.\n",
    "\n",
    "#### Attribute Information\n",
    "\n",
    "For each record in the dataset, the following attributes were provided:\n",
    "\n",
    "- Triaxial acceleration from the accelerometer (total and estimated body acceleration).\n",
    "- Triaxial angular velocity from the gyroscope.\n",
    "- A 561-feature vector derived from time and frequency domain calculations.\n",
    "- Activity label indicating the type of activity performed.\n",
    "- An identifier for the participant who carried out the experiment.\n",
    "\n",
    "The HAR dataset collection process was designed to ensure the capture of high-quality, detailed data that accurately represents various human activities. By combining sensor data with video-recorded labels and employing rigorous preprocessing and feature extraction techniques, the resulting dataset serves as a valuable resource for developing robust Human Activity Recognition systems."
   ]
  },
  {
   "cell_type": "markdown",
   "id": "a93d13c4-5127-499b-9085-4ad858ead7bd",
   "metadata": {},
   "source": [
    "## Libraries"
   ]
  },
  {
   "cell_type": "code",
   "execution_count": 6,
   "id": "0b485a75-c368-4f75-9589-74b740bba00b",
   "metadata": {},
   "outputs": [],
   "source": [
    "# Warnings\n",
    "import warnings\n",
    "warnings.filterwarnings('ignore')\n",
    "\n",
    "# Libraries\n",
    "import numpy as np\n",
    "import pandas as pd\n",
    "import matplotlib.pyplot as plt\n",
    "import seaborn as sns\n",
    "\n",
    "# Settings\n",
    "RANDOM_STATE = 35820\n",
    "pd.set_option('display.max_columns', None)\n",
    "sns.set_style('whitegrid')\n",
    "%matplotlib inline"
   ]
  },
  {
   "cell_type": "code",
   "execution_count": null,
   "id": "955bf7df-3312-4cd7-b6da-cadc0084f515",
   "metadata": {},
   "outputs": [],
   "source": [
    "ROOT_DATA = \"../data/activity_root_file.csv\""
   ]
  }
 ],
 "metadata": {
  "kernelspec": {
   "display_name": "Python 3 (ipykernel)",
   "language": "python",
   "name": "python3"
  },
  "language_info": {
   "codemirror_mode": {
    "name": "ipython",
    "version": 3
   },
   "file_extension": ".py",
   "mimetype": "text/x-python",
   "name": "python",
   "nbconvert_exporter": "python",
   "pygments_lexer": "ipython3",
   "version": "3.12.4"
  }
 },
 "nbformat": 4,
 "nbformat_minor": 5
}
